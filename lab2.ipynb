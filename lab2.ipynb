{
 "cells": [
  {
   "attachments": {},
   "cell_type": "markdown",
   "metadata": {},
   "source": [
    "<h2 align=\"center\"> Лабораторна робота №2</h2>\n",
    "<p align=\"center\">ФБ-23 Ткачук Андрій</p>"
   ]
  },
  {
   "attachments": {},
   "cell_type": "markdown",
   "metadata": {},
   "source": [
    "### Хід виконання"
   ]
  },
  {
   "attachments": {},
   "cell_type": "markdown",
   "metadata": {},
   "source": [
    "1. Створити env в якому будуть встановлені всі необхідні бібліотеки та налаштування для данної лабораторної роботи"
   ]
  },
  {
   "cell_type": "raw",
   "metadata": {},
   "source": [
    "conda create --name lab2_env python=3.12.1\n",
    "conda activate lab2_env"
   ]
  },
  {
   "attachments": {},
   "cell_type": "markdown",
   "metadata": {},
   "source": [
    "2. Для кожної із адміністративних одиниць України завантажити тестові структуровані файли, що містять значення VHI-індексу. Ця процедура має бути автоматизована, параметром процедури має бути індекс (номер) області. При зберіганні файлу до його імені потрібно додати дату та час завантаження;"
   ]
  },
  {
   "cell_type": "code",
   "execution_count": 3,
   "metadata": {},
   "outputs": [
    {
     "name": "stdout",
     "output_type": "stream",
     "text": [
      "Файли встановлено\n"
     ]
    }
   ],
   "source": [
    "import datetime\n",
    "import os\n",
    "import urllib.request\n",
    "\n",
    "CurrentTime=datetime.datetime.now().strftime(\"%Y-%m-%d_%H-%M-%S\")\n",
    "\n",
    "if not os.path.exists(\"DataCSV\"):\n",
    "    os.makedirs(\"DataCSV\")\n",
    "\n",
    "for provid in range(1,28):\n",
    "    url=url=f'https://www.star.nesdis.noaa.gov/smcd/emb/vci/VH/get_TS_admin.php?provinceID={provid}&country=UKR&yearlyTag=Weekly&type=Mean&TagCropland=crop&year1=1982&year2=2024'\n",
    "    FileName=f\"NOAA_ID{provid}_{CurrentTime}.csv\"\n",
    "    FilePath=f\"./DataCSV/{FileName}\"\n",
    "\n",
    "    try:\n",
    "        urllib.request.urlretrieve(url,FilePath)  \n",
    "    except Exception as e: print(e)\n",
    "print(\"Файли встановлено\")"
   ]
  },
  {
   "attachments": {},
   "cell_type": "markdown",
   "metadata": {},
   "source": [
    "3. Зчитати завантажені текстові файли у фрейм (детальніше про роботу із фреймами буде розказано у подальших лабораторних роботах). Імена стовбців фрейму мають бути змістовними та легкими для сприйняття (не повинно бути спеціалізованих символів, пробілів тощо). Ця задача має бути реалізована у вигляді окремої процедури, яка на вхід приймає шлях до директорії, в якій зберігаються файли;"
   ]
  },
  {
   "cell_type": "code",
   "execution_count": 40,
   "metadata": {},
   "outputs": [
    {
     "name": "stdout",
     "output_type": "stream",
     "text": [
      "                year  week    SMN     SMT    VCI    TCI    VHI  ID\n",
      "0      <tt><pre>1982   1.0  0.058  258.03  51.18  49.16  50.17   1\n",
      "1               1982   2.0  0.062  261.39  55.47  38.40  46.94   1\n",
      "2               1982   3.0  0.061  263.35  56.51  32.77  44.64   1\n",
      "3               1982   4.0  0.058  264.99  52.86  28.74  40.80   1\n",
      "4               1982   5.0  0.055  266.32  45.90  28.59  37.25   1\n",
      "...              ...   ...    ...     ...    ...    ...    ...  ..\n",
      "60349           2024   4.0  0.093  273.64  54.61  11.58  33.09  27\n",
      "60350           2024   5.0  0.097  274.40  56.21  11.30  33.76  27\n",
      "60351           2024   6.0  0.104  275.24  57.40  13.57  35.48  27\n",
      "60352           2024   7.0  0.111  276.07  55.85  17.90  36.87  27\n",
      "60353           2024   8.0  0.118  276.75  53.36  23.51  38.43  27\n",
      "\n",
      "[57834 rows x 8 columns]\n"
     ]
    }
   ],
   "source": [
    "import pandas as pd\n",
    "def cleandf(CreatedDir):\n",
    "    if not os.path.exists(CreatedDir):\n",
    "        print(f'Директорія {CreatedDir} не створена')\n",
    "    ls =[]\n",
    "    files=os.listdir(CreatedDir)\n",
    "    for i,file in enumerate(files):\n",
    "        FilePath=os.path.join(CreatedDir,file)\n",
    "        df=pd.read_csv(FilePath,index_col=False,header=1)\n",
    "        df[\"ID\"]=i+1\n",
    "        ls.append(df)\n",
    "    df=pd.concat(ls).drop_duplicates().reset_index(drop=True)\n",
    "\n",
    "###Rename columns\n",
    "    #print(df.columns.values)\n",
    "    df=df.rename(columns={' SMN': 'SMN'})\n",
    "    df=df.rename(columns={' VHI<br>': 'VHI'})\n",
    "    \n",
    "###Cleaning Nan and -1\n",
    "    df=df.dropna()\n",
    "    df=df.drop(df.loc[df['VHI'] == -1].index)\n",
    "    print(df.head(70000))\n",
    "\n",
    "\n",
    "\n",
    "cleandf('DataCSV')"
   ]
  }
 ],
 "metadata": {
  "kernelspec": {
   "display_name": "Python 3",
   "language": "python",
   "name": "python3"
  },
  "language_info": {
   "codemirror_mode": {
    "name": "ipython",
    "version": 3
   },
   "file_extension": ".py",
   "mimetype": "text/x-python",
   "name": "python",
   "nbconvert_exporter": "python",
   "pygments_lexer": "ipython3",
   "version": "0.0.0"
  },
  "orig_nbformat": 4
 },
 "nbformat": 4,
 "nbformat_minor": 2
}
