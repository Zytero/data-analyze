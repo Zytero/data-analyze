{
 "cells": [
  {
   "attachments": {},
   "cell_type": "markdown",
   "metadata": {},
   "source": [
    "<h2 align=\"center\"> Лабораторна робота №2</h2>\n",
    "<p align=\"center\">ФБ-23 Ткачук Андрій</p>"
   ]
  },
  {
   "attachments": {},
   "cell_type": "markdown",
   "metadata": {},
   "source": [
    "<h1> Хід виконання</h1>"
   ]
  },
  {
   "attachments": {},
   "cell_type": "markdown",
   "metadata": {},
   "source": [
    "##### 1. Створити env в якому будуть встановлені всі необхідні бібліотеки та налаштування для данної лабораторної роботи "
   ]
  },
  {
   "cell_type": "markdown",
   "metadata": {},
   "source": [
    "Створив env за допомогою anaconda"
   ]
  },
  {
   "attachments": {},
   "cell_type": "markdown",
   "metadata": {},
   "source": [
    "##### 2. Для кожної із адміністративних одиниць України завантажити тестові структуровані файли, що містять значення VHI-індексу. Ця процедура має бути автоматизована, параметром процедури має бути індекс (номер) області. При зберіганні файлу до його імені потрібно додати дату та час завантаження;"
   ]
  },
  {
   "cell_type": "code",
   "execution_count": 1,
   "metadata": {},
   "outputs": [
    {
     "name": "stdout",
     "output_type": "stream",
     "text": [
      "Файли встановлено в DataCSV\\NOAA_2024-03-05_10-07-18\n"
     ]
    }
   ],
   "source": [
    "import datetime\n",
    "import os\n",
    "import urllib.request\n",
    "\n",
    "CurrentTime=datetime.datetime.now().strftime(\"%Y-%m-%d_%H-%M-%S\")\n",
    "dir_path=os.path.join(\"DataCSV\",f\"NOAA_{CurrentTime}\")\n",
    "os.makedirs(dir_path)\n",
    "\n",
    "\n",
    "for provid in range(1,28):\n",
    "    url=f'https://www.star.nesdis.noaa.gov/smcd/emb/vci/VH/get_TS_admin.php?provinceID={provid}&country=UKR&yearlyTag=Weekly&type=Mean&TagCropland=crop&year1=1982&year2=2024'\n",
    "    FileName=f\"NOAA_ID{provid}_{CurrentTime}.csv\"\n",
    "    FilePath=os.path.join(dir_path,FileName)\n",
    "\n",
    "    try:\n",
    "        urllib.request.urlretrieve(url,FilePath)  \n",
    "    except Exception as e: print(e)\n",
    "\n",
    "print(f\"Файли встановлено в {dir_path}\")"
   ]
  },
  {
   "attachments": {},
   "cell_type": "markdown",
   "metadata": {},
   "source": [
    "##### 3. Зчитати завантажені текстові файли у фрейм (детальніше про роботу із фреймами буде розказано у подальших лабораторних роботах). Імена стовбців фрейму мають бути змістовними та легкими для сприйняття (не повинно бути спеціалізованих символів, пробілів тощо). Ця задача має бути реалізована у вигляді окремої процедури, яка на вхід приймає шлях до директорії, в якій зберігаються файли;"
   ]
  },
  {
   "cell_type": "code",
   "execution_count": 9,
   "metadata": {},
   "outputs": [
    {
     "name": "stdout",
     "output_type": "stream",
     "text": [
      "Перед редагуванням: ['year' 'week' ' SMN' 'SMT' 'VCI' 'TCI' ' VHI<br>' 'ID']\n",
      "Після редагування: ['year' 'week' 'SMN' 'SMT' 'VCI' 'TCI' 'VHI' 'ID']\n",
      "\n",
      " Перед видаленням Nan: \n",
      "(60399, 8)\n",
      "\n",
      " Після видалення Nan: \n",
      "(57861, 8)\n",
      "\n",
      "Перед редагуванням: \n",
      "year\n",
      "4     57834\n",
      "13       27\n",
      "Name: count, dtype: int64\n",
      "\n",
      "Після редагування:\n",
      "year\n",
      "4    57861\n",
      "Name: count, dtype: int64\n",
      "\n",
      "   year  week    SMN     SMT    VCI    TCI    VHI  ID\n",
      "0  1982   1.0  0.058  258.03  51.18  49.16  50.17   1\n",
      "1  1982   2.0  0.062  261.39  55.47  38.40  46.94   1\n",
      "2  1982   3.0  0.061  263.35  56.51  32.77  44.64   1\n",
      "3  1982   4.0  0.058  264.99  52.86  28.74  40.80   1\n",
      "4  1982   5.0  0.055  266.32  45.90  28.59  37.25   1\n"
     ]
    }
   ],
   "source": [
    "import pandas as pd\n",
    "\n",
    "def cleandf(MainDir):\n",
    "    if not os.path.exists(MainDir):\n",
    "        print(f'Директорія {MainDir} не створена')\n",
    "    else:\n",
    "\n",
    "        ls =[]\n",
    "\n",
    "        dirs=[]\n",
    "        for file in os.listdir(MainDir): \n",
    "            if os.path.isdir(os.path.join(MainDir,file)): \n",
    "                dirs.append(file)\n",
    "\n",
    "        ###Choosing Newest directory\n",
    "        if len(dirs) == 1:\n",
    "            NewestDir=os.path.join(MainDir,dirs[0])\n",
    "        else:\n",
    "            for i in range(1,len(dirs)):\n",
    "                if os.path.getctime(os.path.join(MainDir,dirs[i-1])) < os.path.getctime(os.path.join(MainDir,dirs[i])):\n",
    "                    NewestDir=os.path.join(MainDir,dirs[i])\n",
    "        #print(NewestDir)\n",
    "\n",
    "        ##Creating df\n",
    "        files=os.listdir(NewestDir)\n",
    "        for i,file in enumerate(files):\n",
    "            FilePath=os.path.join(NewestDir,file)\n",
    "            df=pd.read_csv(FilePath,index_col=False,header=1)\n",
    "            df[\"ID\"]=i+1\n",
    "            ls.append(df)\n",
    "\n",
    "        df=pd.concat(ls).drop_duplicates().reset_index(drop=True)\n",
    "\n",
    "    ###Rename columns\n",
    "        print(f\"Перед редагуванням: {df.columns.values}\")\n",
    "        df=df.rename(columns={' SMN': 'SMN'})\n",
    "        df=df.rename(columns={' VHI<br>': 'VHI'})\n",
    "        print(f\"Після редагування: {df.columns.values}\")\n",
    "        \n",
    "    ###Cleaning Nan and -1\n",
    "        print(f\"\\n Перед видаленням Nan: \\n{df.shape}\")\n",
    "        df=df.dropna()\n",
    "        df=df.drop(df.loc[df['VHI'] == -1].index)\n",
    "        print(f\"\\n Після видалення Nan: \\n{df.shape}\")\n",
    "\n",
    "    ###Cleaning html tags\n",
    "        print(f\"\\nПеред редагуванням: \\n{df['year'].str.len().value_counts()}\")\n",
    "        df['year'].replace({\"<tt><pre>1982\" : \"1982\"}, inplace=True)\n",
    "        print(f\"\\nПісля редагування:\\n{df['year'].str.len().value_counts()}\\n\")\n",
    "\n",
    "        return(df)\n",
    "\n",
    "cdf=cleandf('DataCSV')\n",
    "print(cdf.head())\n",
    "#print(cdf.shape)"
   ]
  },
  {
   "cell_type": "markdown",
   "metadata": {},
   "source": [
    "##### 4. Реалізувати процедуру, яка змінить індекси областей, які використані на порталі NOAA."
   ]
  },
  {
   "cell_type": "code",
   "execution_count": 10,
   "metadata": {},
   "outputs": [
    {
     "name": "stdout",
     "output_type": "stream",
     "text": [
      "\t Початкові дані:\n",
      "    year  week    SMN     SMT    VCI    TCI    VHI  ID\n",
      "0  1982   1.0  0.058  258.03  51.18  49.16  50.17   1\n",
      "1  1982   2.0  0.062  261.39  55.47  38.40  46.94   1\n",
      "2  1982   3.0  0.061  263.35  56.51  32.77  44.64   1\n",
      "3  1982   4.0  0.058  264.99  52.86  28.74  40.80   1\n",
      "4  1982   5.0  0.055  266.32  45.90  28.59  37.25   1\n",
      "\t Дані після зміни індексів: \n",
      "    year  week    SMN     SMT    VCI    TCI    VHI  ID\n",
      "0  1982   1.0  0.058  258.03  51.18  49.16  50.17  22\n",
      "1  1982   2.0  0.062  261.39  55.47  38.40  46.94  22\n",
      "2  1982   3.0  0.061  263.35  56.51  32.77  44.64  22\n",
      "3  1982   4.0  0.058  264.99  52.86  28.74  40.80  22\n",
      "4  1982   5.0  0.055  266.32  45.90  28.59  37.25  22\n"
     ]
    }
   ],
   "source": [
    "###Змінюю індекси (25 з методички + Київ 26 та Севастополь 27)\n",
    "new_index={\n",
    "    1:22,\n",
    "    2:24,\n",
    "    3:23,\n",
    "    4:25,\n",
    "    5:3,\n",
    "    6:4,   \n",
    "    7:8,\n",
    "    8:19,   \n",
    "    9:20,\n",
    "    10:21,\n",
    "    11:9,\n",
    "    12:26,\n",
    "    13:10,\n",
    "    14:11,\n",
    "    15:12,\n",
    "    16:13,\n",
    "    17:14,\n",
    "    18:15,\n",
    "    19:16,\n",
    "    20:27,\n",
    "    21:17,\n",
    "    22:18,\n",
    "    23:6,\n",
    "    24:1,\n",
    "    25:2,\n",
    "    26:7,\n",
    "    27:5\n",
    "}\n",
    "\n",
    "print(f\"\\t Початкові дані:\\n {cdf.head()}\")\n",
    "cdf=cdf.replace({\"ID\" : new_index})\n",
    "print(f\"\\t Дані після зміни індексів: \\n {cdf.head()}\")"
   ]
  },
  {
   "cell_type": "markdown",
   "metadata": {},
   "source": [
    "##### 5 Реалізувати процедури для формування вибірок наступного виду (включаючи елементи аналізу):\n",
    "<ul>\n",
    "    <li>Ряд VHI для області за рік, пошук екстремумів (min та max);</li>\n",
    "    <li>Ряд VHI за всі роки для області, виявити роки з екстремальними посухами, які торкнулися більше вказаного відсотка області;</li>\n",
    "    <li>Аналогічно для помірних посух</li>\n",
    "</ul>"
   ]
  },
  {
   "cell_type": "markdown",
   "metadata": {},
   "source": [
    " 5.1 Ряд VHI для області за рік, пошук екстремумів (min та max)\n"
   ]
  },
  {
   "cell_type": "code",
   "execution_count": 11,
   "metadata": {},
   "outputs": [
    {
     "name": "stdout",
     "output_type": "stream",
     "text": [
      "       year  week    VHI\n",
      "20237  1984   1.0  32.74\n",
      "20238  1984   2.0  37.39\n",
      "20239  1984   3.0  41.66\n",
      "20240  1984   4.0  43.52\n",
      "20241  1984   5.0  44.30\n",
      "20242  1984   6.0  43.85\n",
      "20243  1984   7.0  44.11\n",
      "20244  1984   8.0  45.73\n",
      "20245  1984   9.0  46.84\n",
      "20246  1984  10.0  46.68\n",
      "20247  1984  11.0  45.26\n",
      "20248  1984  12.0  44.76\n",
      "20249  1984  13.0  42.44\n",
      "20250  1984  14.0  40.46\n",
      "20251  1984  15.0  37.95\n",
      "20252  1984  16.0  35.06\n",
      "20253  1984  17.0  33.92\n",
      "20254  1984  18.0  33.65\n",
      "20255  1984  19.0  34.51\n",
      "20256  1984  20.0  39.36\n",
      "20257  1984  21.0  43.47\n",
      "20258  1984  22.0  46.66\n",
      "20259  1984  23.0  50.01\n",
      "20260  1984  24.0  52.79\n",
      "20261  1984  25.0  56.03\n",
      "20262  1984  26.0  58.88\n",
      "20263  1984  27.0  61.03\n",
      "20264  1984  28.0  62.50\n",
      "20265  1984  29.0  64.27\n",
      "20266  1984  30.0  63.18\n",
      "20267  1984  31.0  59.62\n",
      "20268  1984  32.0  55.92\n",
      "20269  1984  33.0  54.04\n",
      "20270  1984  34.0  52.28\n",
      "20271  1984  35.0  50.61\n",
      "20272  1984  36.0  47.29\n",
      "20273  1984  37.0  43.00\n",
      "20274  1984  38.0  41.37\n",
      "20275  1984  39.0  40.96\n",
      "20276  1984  40.0  37.42\n",
      "20277  1984  41.0  36.37\n",
      "20278  1984  42.0  34.85\n",
      "20279  1984  43.0  33.29\n",
      "20280  1984  44.0  29.53\n",
      "20281  1984  45.0  29.80\n",
      "20282  1984  46.0  30.49\n",
      "20283  1984  47.0  32.47\n",
      "20284  1984  48.0  35.24\n",
      "20285  1984  49.0  33.45 \n",
      " min=29.53 \n",
      " max=64.27\n"
     ]
    }
   ],
   "source": [
    "def getvhi(df,id,year):\n",
    "    vhi=df[(df['ID'] == id) & (df[\"year\"] == str(year))][['year','week','VHI']]\n",
    "    min=vhi['VHI'].min()\n",
    "    max=vhi['VHI'].max()\n",
    "    return vhi,min,max\n",
    "\n",
    "vhi,min,max=getvhi(cdf,21,1984)\n",
    "print(f\"{vhi} \\n {min=} \\n {max=}\")"
   ]
  },
  {
   "cell_type": "markdown",
   "metadata": {},
   "source": [
    "5.2 Ряд VHI за всі роки для області, виявити роки з екстремальними посухами, які торкнулися більше вказаного відсотка (області) VHI\n"
   ]
  },
  {
   "cell_type": "markdown",
   "metadata": {},
   "source": [
    "Зміст VHI-індексу\n",
    "<ul>\n",
    "    <li>VHI < 40 – стресові умови; </li>\n",
    "    <li> VHI > 60 – сприятливі умови;</li>\n",
    "    <li> VHI < 15 – екстремальна посуха;</li>\n",
    "    <li> VHI < 35 – помірна посуха.</li>\n",
    "</ul>"
   ]
  },
  {
   "cell_type": "code",
   "execution_count": 12,
   "metadata": {},
   "outputs": [
    {
     "name": "stdout",
     "output_type": "stream",
     "text": [
      "VHI більше за введене значення: \n",
      "       year  week    VHI\n",
      "53688  1982   1.0  53.84\n",
      "53689  1982   2.0  51.58\n",
      "53756  1983  17.0  50.19\n",
      "53757  1983  18.0  52.55\n",
      "53758  1983  19.0  54.63\n",
      "...     ...   ...    ...\n",
      "55866  2023  47.0  51.27\n",
      "55867  2023  48.0  52.96\n",
      "55868  2023  49.0  50.77\n",
      "55874  2024   3.0  50.30\n",
      "55875  2024   4.0  50.37\n",
      "\n",
      "[877 rows x 3 columns]\n",
      "Екстремальна посуха: \n",
      "Empty DataFrame\n",
      "Columns: [year, week, VHI]\n",
      "Index: []\n"
     ]
    }
   ],
   "source": [
    "def extreme_drought(df,vhivalue,provinceid):\n",
    "    vhi_more_than_value=df[(df['VHI']> vhivalue) & (df['ID'] == provinceid)][['year','week','VHI']]\n",
    "    vhi_drought=df[(df['VHI'] < 15) & (df['ID'] == provinceid)][['year','week','VHI']]\n",
    "    \n",
    "    return vhi_more_than_value,vhi_drought\n",
    "v,d =extreme_drought(cdf,50,2)\n",
    "print(f\"VHI більше за введене значення: \\n{v}\")\n",
    "print(f\"Екстремальна посуха: \\n{d}\")\n"
   ]
  },
  {
   "cell_type": "markdown",
   "metadata": {},
   "source": [
    "5.3 Аналогічно для помірних посух"
   ]
  },
  {
   "cell_type": "code",
   "execution_count": 146,
   "metadata": {},
   "outputs": [
    {
     "name": "stdout",
     "output_type": "stream",
     "text": [
      "VHI більше за введене значення: \n",
      "      year  week    VHI\n",
      "647   1994  24.0  80.74\n",
      "648   1994  25.0  81.31\n",
      "1008  2001  21.0  81.91\n",
      "1009  2001  22.0  81.77\n",
      "\n",
      " Помірна посуха: \n",
      "      year  week    VHI\n",
      "6     1982   7.0  34.68\n",
      "7     1982   8.0  33.30\n",
      "8     1982   9.0  32.61\n",
      "9     1982  10.0  31.66\n",
      "10    1982  11.0  31.18\n",
      "...    ...   ...    ...\n",
      "2124  2022  45.0  30.45\n",
      "2125  2022  46.0  31.82\n",
      "2174  2023  43.0  32.95\n",
      "2175  2023  44.0  30.06\n",
      "2176  2023  45.0  30.60\n",
      "\n",
      "[225 rows x 3 columns]\n"
     ]
    }
   ],
   "source": [
    "def moderate_drought(df,provinceid,vhivalue):\n",
    "    vhi_more_than_value=df[(df['VHI']> vhivalue) & (df['ID'] == provinceid)][['year','week','VHI']]\n",
    "    vhi_moderate=df[( df['VHI'] > 15) & ( df['VHI'] < 35) & (df['ID'] == provinceid)][['year','week','VHI']]\n",
    "    return  vhi_more_than_value, vhi_moderate\n",
    "\n",
    "v,m = moderate_drought(cdf,2,80)\n",
    "print(f\"VHI більше за введене значення: \\n{v}\")\n",
    "print(f\"\\n Помірна посуха: \\n{m}\")"
   ]
  }
 ],
 "metadata": {
  "kernelspec": {
   "display_name": "Python 3",
   "language": "python",
   "name": "python3"
  },
  "language_info": {
   "codemirror_mode": {
    "name": "ipython",
    "version": 3
   },
   "file_extension": ".py",
   "mimetype": "text/x-python",
   "name": "python",
   "nbconvert_exporter": "python",
   "pygments_lexer": "ipython3",
   "version": "3.11.8"
  },
  "orig_nbformat": 4
 },
 "nbformat": 4,
 "nbformat_minor": 2
}
