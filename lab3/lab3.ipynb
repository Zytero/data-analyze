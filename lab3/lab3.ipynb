{
 "cells": [
  {
   "cell_type": "markdown",
   "metadata": {},
   "source": [
    "<h2 align=\"center\"> Лабораторна робота №3</h2>\n",
    "<h3 align='center'>Наука про дані: обмін результатами та початковий аналіз</h3>\n",
    "<p align=\"center\">ФБ-23 Ткачук Андрій</p>"
   ]
  },
  {
   "cell_type": "markdown",
   "metadata": {},
   "source": [
    "<b>Мета роботи:</b> ознайомитися з системою контролю версій GitHub, навчитися створювати прості веб-додатки для обміну результатами досліджень із використанням модуля spyre. \n",
    "\n",
    "<b>Основні поняття:</b> система контролю версій, репозитарій, інтерактивний веб-додаток."
   ]
  },
  {
   "cell_type": "markdown",
   "metadata": {},
   "source": [
    "## Хід виконання:"
   ]
  },
  {
   "cell_type": "markdown",
   "metadata": {},
   "source": [
    "Створити веб-додаток із використанням модуля Spyre, який дозволить: обрати часовий ряд VCI, TCI, VHI для набору даних із лабораторної роботи 1 (випадаючий список);"
   ]
  },
  {
   "cell_type": "markdown",
   "metadata": {},
   "source": [
    "## Завдання лабораторної роботи:\n",
    "<ul>\n",
    "    <li>Створити випадающий список для VCI,TCI,VHI</li>\n",
    "    <li>Створити ще один випадаючий список для вибору області </li>\n",
    "    <li> Створити текстове поле для введення інтервалу місяців</li>\n",
    "    <li> Створити таблицю та графік для відображення даних</li>\n",
    "</ul>"
   ]
  },
  {
   "cell_type": "markdown",
   "metadata": {},
   "source": [
    "Оновлення графіку можна реалізувати 2 способами:\n",
    "<ul>\n",
    "<li>В inputs додати action_id зі значенням id outputs</li>\n",
    "<li>В outputs додати control_id зі значенням id controls</li>\n",
    "\n",
    "</ul>"
   ]
  },
  {
   "cell_type": "markdown",
   "metadata": {},
   "source": [
    "### Основна частина:\n"
   ]
  },
  {
   "cell_type": "code",
   "execution_count": null,
   "metadata": {},
   "outputs": [],
   "source": [
    "from df_creation import dir_c\n",
    "import warnings\n",
    "warnings.filterwarnings('ignore')\n",
    "#Завантажуються дані з другої лаб. роботи\n",
    "dir_c()"
   ]
  },
  {
   "cell_type": "code",
   "execution_count": null,
   "metadata": {},
   "outputs": [],
   "source": [
    "from spyre import server\n",
    "from df_creation import cleandf\n",
    "import seaborn as sns\n",
    "from matplotlib import pyplot as plt\n",
    "\n",
    "import __main__ as main\n",
    "main.__file__ = \"main_file\"\n",
    "\n",
    "server.include_df_index = True\n",
    "\n",
    "\n",
    "class StockExample(server.App):\n",
    "    title = \"NOAA DATA\"\n",
    "\n",
    "######### 1.Дані VCI,TCI,VHI з 1 лабораторної у вигляді випадаючого списку\n",
    "    inputs = [{\n",
    "            \"type\": 'dropdown',\n",
    "            \"label\": 'Values',\n",
    "            \"options\": [{\"label\": \"VCI\", \"value\": \"VCI\"},\n",
    "                        {\"label\": \"TCI\", \"value\": \"TCI\"},\n",
    "                        {\"label\": \"VHI\", \"value\": \"VHI\"}],\n",
    "            \"key\": 'choosen_value',\n",
    "            #\"action_id\" : \"plot_id\"\n",
    "        },\n",
    "#########  2. Вибрати область, для якої буде виконуватись аналіз (випадаючий список);\n",
    "        {\n",
    "            \"type\": 'dropdown',\n",
    "            \"label\": 'Values',\n",
    "            \"options\": [{\"label\": \"Вінницька\", \"value\": \"1\"},\n",
    "                        {\"label\": \"Волинська\", \"value\": \"2\"},\n",
    "                        {\"label\": \"Дніпропетровська\", \"value\": \"3\"},\n",
    "                        {\"label\": \"Донецька\", \"value\": \"4\"},\n",
    "                        {\"label\": \"Житомирська\", \"value\": \"5\"},\n",
    "                        {\"label\": \"Закарпатська\", \"value\": \"6\"},\n",
    "                        {\"label\": \"Запорізька\", \"value\": \"7\"},\n",
    "                        {\"label\": \"Івано-Франківська\", \"value\": \"8\"},\n",
    "                        {\"label\": \"Київська\", \"value\": \"9\"},\n",
    "                        {\"label\": \"Кіровоградська\", \"value\": \"10\"},\n",
    "                        {\"label\": \"Луганська\", \"value\": \"11\"},\n",
    "                        {\"label\": \"Львівська\", \"value\": \"12\"},\n",
    "                        {\"label\": \"Миколаївська\", \"value\": \"13\"},\n",
    "                        {\"label\": \"Одеська\", \"value\": \"14\"},\n",
    "                        {\"label\": \"Полтавська\", \"value\": \"15\"},\n",
    "                        {\"label\": \"Рівненська\", \"value\": \"16\"},\n",
    "                        {\"label\": \"Сумська\", \"value\": \"17\"},\n",
    "                        {\"label\": \"Тернопільська\", \"value\": \"18\"},\n",
    "                        {\"label\": \"Харківська\", \"value\": \"19\"},\n",
    "                        {\"label\": \"Херсонська\", \"value\": \"20\"},\n",
    "                        {\"label\": \"Хмельницька\", \"value\": \"21\"},\n",
    "                        {\"label\": \"Черкаська\", \"value\": \"22\"},\n",
    "                        {\"label\": \"Чернівецька\", \"value\": \"23\"},\n",
    "                        {\"label\": \"Чернігівська\", \"value\": \"24\"},\n",
    "                        {\"label\": \"Республіка Крим\", \"value\": \"25\"},\n",
    "                        {\"label\": \"Київ\", \"value\": \"26\"},\n",
    "                        {\"label\": \"Севастополь\", \"value\": \"27\"},],\n",
    "            \"key\": 'province_value',\n",
    "        #\"action_id\" : \"plot_id\"\n",
    "        },\n",
    "######### 3.Створити текстове поле для введення інтервалу тижнів\n",
    "        {\n",
    "            \"type\":\"text\",\n",
    "            \"label\":\"weeks range\",\n",
    "            \"key\":\"weeks\",\n",
    "            \"value\":\"9-15\"\n",
    "           #\"action_id\":\"table_id\"\n",
    "        }\n",
    "        ]\n",
    "\n",
    "    outputs = [{\n",
    "            \"type\": \"plot\",\n",
    "            \"id\": \"plot_id\",\n",
    "            \"tab\": \"Plot\",\n",
    "            \"control_id\": \"button1\"\n",
    "        },\n",
    "        {\n",
    "            \"type\":\"table\",\n",
    "            \"id\":\"table_id\",\n",
    "            \"tab\": \"Table\",\n",
    "            \"control_id\": \"button1\"\n",
    "        }]\n",
    "\n",
    "    controls = [{\n",
    "            \"type\": \"button\",\n",
    "            \"id\": \"button1\",\n",
    "            \"label\": \"Update data\"\n",
    "        }]\n",
    "    \n",
    "    tabs=['Plot','Table']\n",
    "\n",
    "    def getData(self,params):\n",
    "        dataf = cleandf()\n",
    "        ch_province=params[\"province_value\"]\n",
    "        ch_value=params['choosen_value']\n",
    "\n",
    "        \n",
    "        week_range=params['weeks'].split('-')\n",
    "        if int(week_range[0])>int(week_range[1]):\n",
    "            t=int(week_range[0])\n",
    "            week_range[0]=int(week_range[1])\n",
    "            week_range[1]=t\n",
    "        else:\n",
    "            week_range[0]=int(week_range[0])\n",
    "            week_range[1]=int(week_range[1])\n",
    "\n",
    "        cdf=dataf[(dataf['ID'].astype(\"str\")==ch_province)&(dataf['week'] > week_range[0]-1)&(dataf['week'] < week_range[1]+1) ][['year','week','SMN','SMT',ch_value,'ID']]\n",
    "        return cdf\n",
    "    \n",
    "    def getPlot(self, params):\n",
    "        cdf = self.getData(params)\n",
    "        cdf['week']=cdf['week'].astype('int64')\n",
    "        ch_value=params['choosen_value']\n",
    "        plt.figure(figsize=(10,6))\n",
    "        plt_obj=sns.lineplot(x=cdf['week'], y=cdf[ch_value])\n",
    "        plt_obj.set_xticks(range(int(min(cdf['week'])), int(max(cdf['week'])) + 1))\n",
    "        return plt_obj\n",
    "app = StockExample()\n",
    "app.launch(port=9093)"
   ]
  },
  {
   "cell_type": "markdown",
   "metadata": {},
   "source": [
    "### Версія зі слайдером"
   ]
  },
  {
   "cell_type": "code",
   "execution_count": 2,
   "metadata": {},
   "outputs": [
    {
     "name": "stderr",
     "output_type": "stream",
     "text": [
      "WARNING:root:Warning: unable to set defaultencoding to utf-8\n",
      "[09/Mar/2024:10:37:03] ENGINE Listening for SIGTERM.\n",
      "INFO:cherrypy.error:[09/Mar/2024:10:37:03] ENGINE Listening for SIGTERM.\n",
      "[09/Mar/2024:10:37:03] ENGINE Bus STARTING\n",
      "INFO:cherrypy.error:[09/Mar/2024:10:37:03] ENGINE Bus STARTING\n",
      "[09/Mar/2024:10:37:03] ENGINE Set handler for console events.\n",
      "INFO:cherrypy.error:[09/Mar/2024:10:37:03] ENGINE Set handler for console events.\n",
      "[09/Mar/2024:10:37:03] ENGINE Started monitor thread 'Autoreloader'.\n",
      "INFO:cherrypy.error:[09/Mar/2024:10:37:03] ENGINE Started monitor thread 'Autoreloader'.\n",
      "[09/Mar/2024:10:37:03] ENGINE Serving on http://127.0.0.1:8080\n",
      "INFO:cherrypy.error:[09/Mar/2024:10:37:03] ENGINE Serving on http://127.0.0.1:8080\n",
      "[09/Mar/2024:10:37:03] ENGINE Bus STARTED\n",
      "INFO:cherrypy.error:[09/Mar/2024:10:37:03] ENGINE Bus STARTED\n"
     ]
    },
    {
     "name": "stdout",
     "output_type": "stream",
     "text": [
      "127.0.0.1 - - [09/Mar/2024:10:37:10] \"GET / HTTP/1.1\" 200 443349 \"\" \"Mozilla/5.0 (Windows NT 10.0; Win64; x64) AppleWebKit/537.36 (KHTML, like Gecko) Chrome/122.0.0.0 Safari/537.36\"\n"
     ]
    },
    {
     "name": "stderr",
     "output_type": "stream",
     "text": [
      "INFO:cherrypy.access.1919982945296:127.0.0.1 - - [09/Mar/2024:10:37:10] \"GET / HTTP/1.1\" 200 443349 \"\" \"Mozilla/5.0 (Windows NT 10.0; Win64; x64) AppleWebKit/537.36 (KHTML, like Gecko) Chrome/122.0.0.0 Safari/537.36\"\n"
     ]
    },
    {
     "name": "stdout",
     "output_type": "stream",
     "text": [
      "127.0.0.1 - - [09/Mar/2024:10:37:10] \"GET /spinning_wheel HTTP/1.1\" 200 2663 \"http://127.0.0.1:8080/\" \"Mozilla/5.0 (Windows NT 10.0; Win64; x64) AppleWebKit/537.36 (KHTML, like Gecko) Chrome/122.0.0.0 Safari/537.36\"\n"
     ]
    },
    {
     "name": "stderr",
     "output_type": "stream",
     "text": [
      "INFO:cherrypy.access.1919982945296:127.0.0.1 - - [09/Mar/2024:10:37:10] \"GET /spinning_wheel HTTP/1.1\" 200 2663 \"http://127.0.0.1:8080/\" \"Mozilla/5.0 (Windows NT 10.0; Win64; x64) AppleWebKit/537.36 (KHTML, like Gecko) Chrome/122.0.0.0 Safari/537.36\"\n"
     ]
    },
    {
     "name": "stdout",
     "output_type": "stream",
     "text": [
      "127.0.0.1 - - [09/Mar/2024:10:37:11] \"GET /table?choosen_value=VCI&year_slider=__float__1982&province_value=1&weeks=9-15&output_id=table_id& HTTP/1.1\" 200 1611 \"http://127.0.0.1:8080/\" \"Mozilla/5.0 (Windows NT 10.0; Win64; x64) AppleWebKit/537.36 (KHTML, like Gecko) Chrome/122.0.0.0 Safari/537.36\"\n"
     ]
    },
    {
     "name": "stderr",
     "output_type": "stream",
     "text": [
      "INFO:cherrypy.access.1919982945296:127.0.0.1 - - [09/Mar/2024:10:37:11] \"GET /table?choosen_value=VCI&year_slider=__float__1982&province_value=1&weeks=9-15&output_id=table_id& HTTP/1.1\" 200 1611 \"http://127.0.0.1:8080/\" \"Mozilla/5.0 (Windows NT 10.0; Win64; x64) AppleWebKit/537.36 (KHTML, like Gecko) Chrome/122.0.0.0 Safari/537.36\"\n"
     ]
    },
    {
     "name": "stdout",
     "output_type": "stream",
     "text": [
      "127.0.0.1 - - [09/Mar/2024:10:37:11] \"GET /plot?choosen_value=VCI&year_slider=__float__1982&province_value=1&weeks=9-15&output_id=plot_id& HTTP/1.1\" 200 22250 \"http://127.0.0.1:8080/\" \"Mozilla/5.0 (Windows NT 10.0; Win64; x64) AppleWebKit/537.36 (KHTML, like Gecko) Chrome/122.0.0.0 Safari/537.36\"\n"
     ]
    },
    {
     "name": "stderr",
     "output_type": "stream",
     "text": [
      "INFO:cherrypy.access.1919982945296:127.0.0.1 - - [09/Mar/2024:10:37:11] \"GET /plot?choosen_value=VCI&year_slider=__float__1982&province_value=1&weeks=9-15&output_id=plot_id& HTTP/1.1\" 200 22250 \"http://127.0.0.1:8080/\" \"Mozilla/5.0 (Windows NT 10.0; Win64; x64) AppleWebKit/537.36 (KHTML, like Gecko) Chrome/122.0.0.0 Safari/537.36\"\n"
     ]
    },
    {
     "name": "stdout",
     "output_type": "stream",
     "text": [
      "127.0.0.1 - - [09/Mar/2024:10:37:13] \"GET /table?choosen_value=VCI&year_slider=__float__2004&province_value=1&weeks=9-15&output_id=table_id& HTTP/1.1\" 200 837 \"http://127.0.0.1:8080/?choosen_value=VCI&year_slider=__float__2004&province_value=1&weeks=9-15&\" \"Mozilla/5.0 (Windows NT 10.0; Win64; x64) AppleWebKit/537.36 (KHTML, like Gecko) Chrome/122.0.0.0 Safari/537.36\"\n"
     ]
    },
    {
     "name": "stderr",
     "output_type": "stream",
     "text": [
      "INFO:cherrypy.access.1919982945296:127.0.0.1 - - [09/Mar/2024:10:37:13] \"GET /table?choosen_value=VCI&year_slider=__float__2004&province_value=1&weeks=9-15&output_id=table_id& HTTP/1.1\" 200 837 \"http://127.0.0.1:8080/?choosen_value=VCI&year_slider=__float__2004&province_value=1&weeks=9-15&\" \"Mozilla/5.0 (Windows NT 10.0; Win64; x64) AppleWebKit/537.36 (KHTML, like Gecko) Chrome/122.0.0.0 Safari/537.36\"\n"
     ]
    },
    {
     "name": "stdout",
     "output_type": "stream",
     "text": [
      "127.0.0.1 - - [09/Mar/2024:10:37:13] \"GET /plot?choosen_value=VCI&year_slider=__float__2004&province_value=1&weeks=9-15&output_id=plot_id& HTTP/1.1\" 200 23808 \"http://127.0.0.1:8080/?choosen_value=VCI&year_slider=__float__2004&province_value=1&weeks=9-15&\" \"Mozilla/5.0 (Windows NT 10.0; Win64; x64) AppleWebKit/537.36 (KHTML, like Gecko) Chrome/122.0.0.0 Safari/537.36\"\n"
     ]
    },
    {
     "name": "stderr",
     "output_type": "stream",
     "text": [
      "INFO:cherrypy.access.1919982945296:127.0.0.1 - - [09/Mar/2024:10:37:13] \"GET /plot?choosen_value=VCI&year_slider=__float__2004&province_value=1&weeks=9-15&output_id=plot_id& HTTP/1.1\" 200 23808 \"http://127.0.0.1:8080/?choosen_value=VCI&year_slider=__float__2004&province_value=1&weeks=9-15&\" \"Mozilla/5.0 (Windows NT 10.0; Win64; x64) AppleWebKit/537.36 (KHTML, like Gecko) Chrome/122.0.0.0 Safari/537.36\"\n"
     ]
    },
    {
     "name": "stdout",
     "output_type": "stream",
     "text": [
      "127.0.0.1 - - [09/Mar/2024:10:37:16] \"GET /table?choosen_value=VCI&year_slider=__float__2012&province_value=1&weeks=9-15&output_id=table_id& HTTP/1.1\" 200 1627 \"http://127.0.0.1:8080/?choosen_value=VCI&year_slider=__float__2012&province_value=1&weeks=9-15&\" \"Mozilla/5.0 (Windows NT 10.0; Win64; x64) AppleWebKit/537.36 (KHTML, like Gecko) Chrome/122.0.0.0 Safari/537.36\"\n"
     ]
    },
    {
     "name": "stderr",
     "output_type": "stream",
     "text": [
      "INFO:cherrypy.access.1919982945296:127.0.0.1 - - [09/Mar/2024:10:37:16] \"GET /table?choosen_value=VCI&year_slider=__float__2012&province_value=1&weeks=9-15&output_id=table_id& HTTP/1.1\" 200 1627 \"http://127.0.0.1:8080/?choosen_value=VCI&year_slider=__float__2012&province_value=1&weeks=9-15&\" \"Mozilla/5.0 (Windows NT 10.0; Win64; x64) AppleWebKit/537.36 (KHTML, like Gecko) Chrome/122.0.0.0 Safari/537.36\"\n"
     ]
    },
    {
     "name": "stdout",
     "output_type": "stream",
     "text": [
      "127.0.0.1 - - [09/Mar/2024:10:37:16] \"GET /plot?choosen_value=VCI&year_slider=__float__2012&province_value=1&weeks=9-15&output_id=plot_id& HTTP/1.1\" 200 22157 \"http://127.0.0.1:8080/?choosen_value=VCI&year_slider=__float__2012&province_value=1&weeks=9-15&\" \"Mozilla/5.0 (Windows NT 10.0; Win64; x64) AppleWebKit/537.36 (KHTML, like Gecko) Chrome/122.0.0.0 Safari/537.36\"\n"
     ]
    },
    {
     "name": "stderr",
     "output_type": "stream",
     "text": [
      "INFO:cherrypy.access.1919982945296:127.0.0.1 - - [09/Mar/2024:10:37:16] \"GET /plot?choosen_value=VCI&year_slider=__float__2012&province_value=1&weeks=9-15&output_id=plot_id& HTTP/1.1\" 200 22157 \"http://127.0.0.1:8080/?choosen_value=VCI&year_slider=__float__2012&province_value=1&weeks=9-15&\" \"Mozilla/5.0 (Windows NT 10.0; Win64; x64) AppleWebKit/537.36 (KHTML, like Gecko) Chrome/122.0.0.0 Safari/537.36\"\n"
     ]
    }
   ],
   "source": [
    "from spyre import server\n",
    "from df_creation import cleandf\n",
    "import seaborn as sns\n",
    "from matplotlib import pyplot as plt\n",
    "import __main__ as main\n",
    "main.__file__ = \"main_file\"\n",
    "\n",
    "server.include_df_index = True\n",
    "\n",
    "\n",
    "class StockExample(server.App):\n",
    "    title = \"NOAA DATA\"\n",
    "\n",
    "######### 1.Дані VCI,TCI,VHI з 1 лабораторної у вигляді випадаючого списку\n",
    "    inputs = [{\n",
    "            \"type\": 'dropdown',\n",
    "            \"label\": 'Values',\n",
    "            \"options\": [{\"label\": \"VCI\", \"value\": \"VCI\"},\n",
    "                        {\"label\": \"TCI\", \"value\": \"TCI\"},\n",
    "                        {\"label\": \"VHI\", \"value\": \"VHI\"}],\n",
    "            \"key\": 'choosen_value',\n",
    "            #\"action_id\" : \"plot_id\"\n",
    "        },\n",
    "        #Обираю рік за допомогою слайдера\n",
    "        {\n",
    "            \"type\":'slider',\n",
    "            \"label\": 'Year',\n",
    "            \"key\": 'year_slider',\n",
    "            \"value\" :1982,\n",
    "            \"min\" : 1982,\n",
    "            \"max\" : 2024,\n",
    "            #\"action_id\" : \"plot_id\"\n",
    "        },\n",
    "#########  2. Вибрати область, для якої буде виконуватись аналіз (випадаючий список);\n",
    "        {\n",
    "            \"type\": 'dropdown',\n",
    "            \"label\": 'Values',\n",
    "            \"options\": [{\"label\": \"Вінницька\", \"value\": \"1\"},\n",
    "                        {\"label\": \"Волинська\", \"value\": \"2\"},\n",
    "                        {\"label\": \"Дніпропетровська\", \"value\": \"3\"},\n",
    "                        {\"label\": \"Донецька\", \"value\": \"4\"},\n",
    "                        {\"label\": \"Житомирська\", \"value\": \"5\"},\n",
    "                        {\"label\": \"Закарпатська\", \"value\": \"6\"},\n",
    "                        {\"label\": \"Запорізька\", \"value\": \"7\"},\n",
    "                        {\"label\": \"Івано-Франківська\", \"value\": \"8\"},\n",
    "                        {\"label\": \"Київська\", \"value\": \"9\"},\n",
    "                        {\"label\": \"Кіровоградська\", \"value\": \"10\"},\n",
    "                        {\"label\": \"Луганська\", \"value\": \"11\"},\n",
    "                        {\"label\": \"Львівська\", \"value\": \"12\"},\n",
    "                        {\"label\": \"Миколаївська\", \"value\": \"13\"},\n",
    "                        {\"label\": \"Одеська\", \"value\": \"14\"},\n",
    "                        {\"label\": \"Полтавська\", \"value\": \"15\"},\n",
    "                        {\"label\": \"Рівенська\", \"value\": \"16\"},\n",
    "                        {\"label\": \"Сумська\", \"value\": \"17\"},\n",
    "                        {\"label\": \"Тернопільська\", \"value\": \"18\"},\n",
    "                        {\"label\": \"Харківська\", \"value\": \"19\"},\n",
    "                        {\"label\": \"Херсонська\", \"value\": \"20\"},\n",
    "                        {\"label\": \"Хмельницька\", \"value\": \"21\"},\n",
    "                        {\"label\": \"Черкаська\", \"value\": \"22\"},\n",
    "                        {\"label\": \"Чернівецька\", \"value\": \"23\"},\n",
    "                        {\"label\": \"Чернігівська\", \"value\": \"24\"},\n",
    "                        {\"label\": \"Республіка Крим\", \"value\": \"25\"},\n",
    "                        {\"label\": \"Київ\", \"value\": \"26\"},\n",
    "                        {\"label\": \"Севастополь\", \"value\": \"27\"},],\n",
    "            \"key\": 'province_value',\n",
    "        #\"action_id\" : \"plot_id\"\n",
    "        },\n",
    "######### 3.Створити текстове поле для введення інтервалу тижнів\n",
    "        {\n",
    "            \"type\":\"text\",\n",
    "            \"label\":\"weeks range\",\n",
    "            \"key\":\"weeks\",\n",
    "            \"value\":\"9-15\"\n",
    "           #\"action_id\":\"table_id\"\n",
    "        }\n",
    "        ]\n",
    "\n",
    "    outputs = [{\n",
    "            \"type\": \"plot\",\n",
    "            \"id\": \"plot_id\",\n",
    "            \"tab\": \"Plot\",\n",
    "            \"control_id\": \"button1\"\n",
    "            },\n",
    "            {\n",
    "                \"type\":\"table\",\n",
    "                \"id\":\"table_id\",\n",
    "                \"tab\": \"Table\",\n",
    "                \"control_id\": \"button1\"\n",
    "            }]\n",
    "\n",
    "    controls = [{\n",
    "        \"type\": \"button\",\n",
    "        \"id\": \"button1\",\n",
    "        \"label\": \"Update data\"\n",
    "    }]\n",
    "\n",
    "    tabs=['Plot','Table']\n",
    " \n",
    "    def getData(self,params):\n",
    "        dataf = cleandf()\n",
    "        ch_province=params[\"province_value\"]\n",
    "        ch_value=params['choosen_value']\n",
    "        ch_year = params['year_slider']\n",
    "        \n",
    "        week_range=params['weeks'].split('-')\n",
    "        if int(week_range[0])>int(week_range[1]):\n",
    "            t=int(week_range[0])\n",
    "            week_range[0]=int(week_range[1])\n",
    "            week_range[1]=t\n",
    "        else:\n",
    "            week_range[0]=int(week_range[0])\n",
    "            week_range[1]=int(week_range[1])\n",
    "\n",
    "        cdf=dataf[(dataf['year'].astype('int64') == ch_year) &(dataf['ID'].astype(\"str\")==ch_province)&(dataf['week'] > week_range[0]-1)&(dataf['week'] < week_range[1]+1) ][['year','week','SMN','SMT',ch_value,'ID']]\n",
    "        return cdf\n",
    "    \n",
    "    def getPlot(self, params):\n",
    "        cdf = self.getData(params)\n",
    "        cdf['week']=cdf['week'].astype('int64')\n",
    "        ch_value=params['choosen_value']\n",
    "        plt.figure(figsize=(14,6))\n",
    "        plt_obj=sns.lineplot(x=cdf['week'], y=cdf[ch_value], color='red')\n",
    "        plt_obj.set_xticks(range(int(min(cdf['week'])), int(max(cdf['week'])) + 1))\n",
    "        return plt_obj\n",
    "app = StockExample()\n",
    "app.launch()"
   ]
  }
 ],
 "metadata": {
  "kernelspec": {
   "display_name": "lab2_env",
   "language": "python",
   "name": "python3"
  },
  "language_info": {
   "codemirror_mode": {
    "name": "ipython",
    "version": 3
   },
   "file_extension": ".py",
   "mimetype": "text/x-python",
   "name": "python",
   "nbconvert_exporter": "python",
   "pygments_lexer": "ipython3",
   "version": "3.11.8"
  }
 },
 "nbformat": 4,
 "nbformat_minor": 2
}
